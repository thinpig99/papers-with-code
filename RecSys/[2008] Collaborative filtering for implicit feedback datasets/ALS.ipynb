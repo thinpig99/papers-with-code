{
 "cells": [
  {
   "cell_type": "markdown",
   "id": "moral-infection",
   "metadata": {},
   "source": [
    "논문을 이해하기 위해 yeomko님의 코드를 참고하여 플로우를 따라가봤습니다. 아래링크는 참고한 출처이며, 이해하는데 도움이 됩니다.\n",
    "\n",
    "https://yeomko.tistory.com/8?category=805638 <br>\n",
    "https://github.com/yeomko22/ALS_implementation <br>\n",
    "https://towardsdatascience.com/prototyping-a-recommender-system-step-by-step-part-2-alternating-least-square-als-matrix-4a76c58714a1"
   ]
  },
  {
   "cell_type": "markdown",
   "id": "tough-boards",
   "metadata": {},
   "source": [
    "## 1. 학습 파라미터 초기화"
   ]
  },
  {
   "cell_type": "markdown",
   "id": "completed-testimony",
   "metadata": {},
   "source": [
    "### Initialize Hyper Parameters\n",
    "- r_lambda: normalization parameter\n",
    "- alpha: confidence level\n",
    "- nf: dimension of latent vector of each user and item\n",
    "- initialized values(40, 200, 40) are the best parameters from the paper"
   ]
  },
  {
   "cell_type": "code",
   "execution_count": 1,
   "id": "adopted-artwork",
   "metadata": {},
   "outputs": [],
   "source": [
    "r_lambda = 40\n",
    "nf = 200\n",
    "alpha = 40"
   ]
  },
  {
   "cell_type": "markdown",
   "id": "headed-touch",
   "metadata": {},
   "source": [
    "## 2. 학습용 평점 데이터 설정"
   ]
  },
  {
   "cell_type": "markdown",
   "id": "executive-casting",
   "metadata": {},
   "source": [
    "### Initialize Original Rating Matrix Data\n",
    "- make sample(10 X 10) matrix\n",
    "- 10: number of users\n",
    "- 10: number of items"
   ]
  },
  {
   "cell_type": "code",
   "execution_count": 36,
   "id": "continental-village",
   "metadata": {},
   "outputs": [
    {
     "name": "stdout",
     "output_type": "stream",
     "text": [
      "(10, 11)\n"
     ]
    }
   ],
   "source": [
    "import numpy as np\n",
    "\n",
    "# sample rating matrix\n",
    "R = np.array([[0, 0, 0, 4, 4, 0, 0, 0, 0, 0, 0],\n",
    "              [0, 0, 0, 0, 0, 0, 0, 0, 0, 0, 1],\n",
    "              [0, 0, 0, 0, 0, 0, 0, 1, 0, 4, 0],\n",
    "              [0, 3, 4, 0, 3, 0, 0, 2, 2, 0, 0],\n",
    "              [0, 5, 5, 0, 0, 0, 0, 0, 0, 0, 0],\n",
    "              [0, 0, 0, 0, 0, 0, 5, 0, 0, 5, 0],\n",
    "              [0, 0, 4, 0, 0, 0, 0, 0, 0, 0, 5],\n",
    "              [0, 0, 0, 0, 0, 4, 0, 0, 0, 0, 4],\n",
    "              [0, 0, 0, 0, 0, 0, 5, 0, 0, 5, 0],\n",
    "              [0, 0, 0, 3, 0, 0, 0, 0, 4, 5, 0]])\n",
    "print(R.shape)"
   ]
  },
  {
   "cell_type": "markdown",
   "id": "editorial-radiation",
   "metadata": {},
   "source": [
    "## 3. 사용자와 아이템의 Latent Factor Matrix를 초기화"
   ]
  },
  {
   "cell_type": "markdown",
   "id": "recorded-indiana",
   "metadata": {},
   "source": [
    "### Initialize User and Item Latent Factor Matrix\n",
    "- nu: number of users(10)\n",
    "- ni: number of items(10)\n",
    "- nf: dimension of latent vector"
   ]
  },
  {
   "cell_type": "code",
   "execution_count": 49,
   "id": "unexpected-mediterranean",
   "metadata": {},
   "outputs": [
    {
     "name": "stdout",
     "output_type": "stream",
     "text": [
      "[[0.00422852 0.0056109  0.00569369 ... 0.00204896 0.0074226  0.00458302]\n",
      " [0.00843676 0.00916543 0.00659356 ... 0.00049386 0.00419373 0.00297106]\n",
      " [0.00725643 0.00112832 0.00141308 ... 0.00703224 0.00547723 0.0019373 ]\n",
      " ...\n",
      " [0.00576274 0.00179855 0.00707314 ... 0.00722862 0.00593933 0.00017285]\n",
      " [0.00111277 0.00014342 0.00204885 ... 0.00794955 0.00987171 0.00728035]\n",
      " [0.00545751 0.00190058 0.00098077 ... 0.00360877 0.00443341 0.00854467]] (10, 200) (11, 200)\n"
     ]
    }
   ],
   "source": [
    "nu = R.shape[0]\n",
    "ni = R.shape[1]\n",
    "\n",
    "# initialize X and Y with very small values\n",
    "X = np.random.rand(nu, nf) * 0.01\n",
    "Y = np.random.rand(ni, nf) * 0.01\n",
    "\n",
    "print(X, X.shape, Y.shape)"
   ]
  },
  {
   "cell_type": "markdown",
   "id": "posted-gothic",
   "metadata": {},
   "source": [
    "### Initialize Binary Rating Matrix P\n",
    "- convert original rating matrix R into P\n",
    "- Pui = 1 if Rui > 0\n",
    "- Pui = 0 if Rui = 0"
   ]
  },
  {
   "cell_type": "code",
   "execution_count": 47,
   "id": "annoying-stake",
   "metadata": {},
   "outputs": [
    {
     "name": "stdout",
     "output_type": "stream",
     "text": [
      "[[0 0 0 1 1 0 0 0 0 0 0]\n",
      " [0 0 0 0 0 0 0 0 0 0 1]\n",
      " [0 0 0 0 0 0 0 1 0 1 0]\n",
      " [0 1 1 0 1 0 0 1 1 0 0]\n",
      " [0 1 1 0 0 0 0 0 0 0 0]\n",
      " [0 0 0 0 0 0 1 0 0 1 0]\n",
      " [0 0 1 0 0 0 0 0 0 0 1]\n",
      " [0 0 0 0 0 1 0 0 0 0 1]\n",
      " [0 0 0 0 0 0 1 0 0 1 0]\n",
      " [0 0 0 1 0 0 0 0 1 1 0]] (10, 11)\n"
     ]
    }
   ],
   "source": [
    "P = np.copy(R)\n",
    "P[P > 0] = 1\n",
    "print(P, P.shape)"
   ]
  },
  {
   "cell_type": "markdown",
   "id": "developing-rubber",
   "metadata": {},
   "source": [
    "### Initialize Confidence Matrix C\n",
    "- Cui = 1 + alpha * Rui\n",
    "- Cui means confidence level of certain rating data"
   ]
  },
  {
   "cell_type": "code",
   "execution_count": 48,
   "id": "horizontal-position",
   "metadata": {},
   "outputs": [
    {
     "name": "stdout",
     "output_type": "stream",
     "text": [
      "[[  1   1   1 161 161   1   1   1   1   1   1]\n",
      " [  1   1   1   1   1   1   1   1   1   1  41]\n",
      " [  1   1   1   1   1   1   1  41   1 161   1]\n",
      " [  1 121 161   1 121   1   1  81  81   1   1]\n",
      " [  1 201 201   1   1   1   1   1   1   1   1]\n",
      " [  1   1   1   1   1   1 201   1   1 201   1]\n",
      " [  1   1 161   1   1   1   1   1   1   1 201]\n",
      " [  1   1   1   1   1 161   1   1   1   1 161]\n",
      " [  1   1   1   1   1   1 201   1   1 201   1]\n",
      " [  1   1   1 121   1   1   1   1 161 201   1]] (10, 11)\n"
     ]
    }
   ],
   "source": [
    "C = 1 + alpha * R\n",
    "print(C, C.shape)"
   ]
  },
  {
   "cell_type": "markdown",
   "id": "individual-biography",
   "metadata": {},
   "source": [
    "### Set Up Loss Function\n",
    "- C: Confidence matrix\n",
    "- P: binary rating Preference matrix\n",
    "- X: user latent matrix\n",
    "- Y: item latent matrix\n",
    "- r_lambda: regularization lambda\n",
    "- xTy: Predict matrix\n",
    "- Total_loss = (confidence_level * Predict Loss) + Regularization Loss"
   ]
  },
  {
   "cell_type": "code",
   "execution_count": 50,
   "id": "incorrect-gnome",
   "metadata": {},
   "outputs": [],
   "source": [
    "def loss_function(C, P, xTy, X, Y, r_lambda):\n",
    "    predict_error = np.square(P - xTy)\n",
    "    confidence_error = np.sum(C * predict_error)\n",
    "    regularization = r_lambda * (np.sum(np.square(X)) + np.sum(np.square(Y)))\n",
    "    total_loss = confidence_error + regularization\n",
    "    return np.sum(predict_error), confidence_error, regularization, total_loss"
   ]
  },
  {
   "cell_type": "markdown",
   "id": "short-plenty",
   "metadata": {},
   "source": [
    "### Optimization Function for user and item\n",
    "- X[u] = (yT * Cu * y + lambda * I)^-1 * yT * Cu * pu\n",
    "- Y[i] = (xT * Ci * x + lambda * I)^-1 * xT * Ci * pi\n",
    "- two formula is the same when it changes X to Y and u to i"
   ]
  },
  {
   "cell_type": "code",
   "execution_count": 59,
   "id": "induced-stuff",
   "metadata": {},
   "outputs": [],
   "source": [
    "def optimize_user(X, Y, C, P, nu, nf, r_lambda):\n",
    "    yT = np.transpose(Y)\n",
    "    for u in range(nu):\n",
    "        Cu = np.diag(C[u])\n",
    "        yT_Cu_y = np.matmul(np.matmul(yT, Cu), Y)\n",
    "        lI = np.dot(r_lambda, np.identity(nf))\n",
    "        yT_Cu_pu = np.matmul(np.matmul(yT, Cu), P[u])\n",
    "        X[u] = np.linalg.solve(yT_Cu_y + lI, yT_Cu_pu)\n",
    "        \n",
    "def optimize_item(X, Y, C, P, ni, nf, r_lambda):\n",
    "    xT = np.transpose(X)\n",
    "    for i in range(ni):\n",
    "        Ci = np.diag(C[:, i])\n",
    "        xT_Ci_x = np.matmul(np.matmul(xT, Ci), X)\n",
    "        lI = np.dot(r_lambda, np.identity(nf))\n",
    "        xT_Ci_pi = np.matmul(np.matmul(xT, Ci), P[:, i])\n",
    "        Y[i] = np.linalg.solve(xT_Ci_x + lI, xT_Ci_pi)"
   ]
  },
  {
   "cell_type": "markdown",
   "id": "enclosed-indiana",
   "metadata": {},
   "source": [
    "### Train\n",
    "- usually ALS algorithm repeat train steps for 10 ~ 15 times"
   ]
  },
  {
   "cell_type": "code",
   "execution_count": 60,
   "id": "collected-mandate",
   "metadata": {},
   "outputs": [
    {
     "name": "stdout",
     "output_type": "stream",
     "text": [
      "--------------------step 0-------------------\n",
      "predict error: 20.770185\n",
      "confidence error: 3127.363744\n",
      "regularization: 185.091651\n",
      "total loss: 3312.455395\n",
      "--------------------step 1-------------------\n",
      "predict error: 31.530745\n",
      "confidence error: 290.085070\n",
      "regularization: 636.144840\n",
      "total loss: 926.229910\n",
      "--------------------step 2-------------------\n",
      "predict error: 34.591907\n",
      "confidence error: 137.399083\n",
      "regularization: 650.000009\n",
      "total loss: 787.399092\n",
      "--------------------step 3-------------------\n",
      "predict error: 32.687158\n",
      "confidence error: 119.944564\n",
      "regularization: 650.338226\n",
      "total loss: 770.282790\n",
      "--------------------step 4-------------------\n",
      "predict error: 30.040423\n",
      "confidence error: 109.618244\n",
      "regularization: 653.195617\n",
      "total loss: 762.813861\n",
      "--------------------step 5-------------------\n",
      "predict error: 27.428293\n",
      "confidence error: 102.573817\n",
      "regularization: 656.235329\n",
      "total loss: 758.809146\n",
      "--------------------step 6-------------------\n",
      "predict error: 25.230028\n",
      "confidence error: 97.677526\n",
      "regularization: 658.754102\n",
      "total loss: 756.431628\n",
      "--------------------step 7-------------------\n",
      "predict error: 23.547393\n",
      "confidence error: 94.328631\n",
      "regularization: 660.649067\n",
      "total loss: 754.977698\n",
      "--------------------step 8-------------------\n",
      "predict error: 22.328123\n",
      "confidence error: 92.079336\n",
      "regularization: 662.009596\n",
      "total loss: 754.088932\n",
      "--------------------step 9-------------------\n",
      "predict error: 21.469433\n",
      "confidence error: 90.584671\n",
      "regularization: 662.963418\n",
      "total loss: 753.548089\n",
      "--------------------step 10-------------------\n",
      "predict error: 20.872456\n",
      "confidence error: 89.595011\n",
      "regularization: 663.623680\n",
      "total loss: 753.218691\n",
      "--------------------step 11-------------------\n",
      "predict error: 20.459576\n",
      "confidence error: 88.939448\n",
      "regularization: 664.077001\n",
      "total loss: 753.016449\n",
      "--------------------step 12-------------------\n",
      "predict error: 20.174775\n",
      "confidence error: 88.504642\n",
      "regularization: 664.385802\n",
      "total loss: 752.890445\n",
      "--------------------step 13-------------------\n",
      "predict error: 19.979006\n",
      "confidence error: 88.216408\n",
      "regularization: 664.593949\n",
      "total loss: 752.810356\n",
      "--------------------step 14-------------------\n",
      "predict error: 19.845339\n",
      "confidence error: 88.026228\n",
      "regularization: 664.732000\n",
      "total loss: 752.758228\n",
      "final predict\n",
      "[array([[ 0.        ,  0.71890321,  0.68056674,  0.85765517,  0.8381975 ,\n",
      "         0.09851519,  0.59207762,  0.68755517,  0.81203196,  0.81932794,\n",
      "         0.31138845],\n",
      "       [ 0.        ,  0.33843215,  0.42028181,  0.10785436,  0.15779805,\n",
      "         0.3930064 , -0.02890493,  0.1495223 ,  0.13453342,  0.03359864,\n",
      "         0.48345746],\n",
      "       [ 0.        ,  0.45962689,  0.42633154,  0.63113858,  0.58588247,\n",
      "         0.03295206,  0.75192667,  0.5659705 ,  0.62723832,  0.86783199,\n",
      "         0.15988411],\n",
      "       [ 0.        ,  0.92280661,  0.94214565,  0.89588944,  0.90851433,\n",
      "         0.36388734,  0.60535188,  0.7779393 ,  0.87866154,  0.85799854,\n",
      "         0.63005882],\n",
      "       [ 0.        ,  0.84989836,  0.92674208,  0.62162029,  0.67889429,\n",
      "         0.53941061,  0.25716242,  0.57289767,  0.62695984,  0.47241773,\n",
      "         0.78324196],\n",
      "       [ 0.        ,  0.28802694,  0.2368096 ,  0.54265207,  0.47032036,\n",
      "        -0.0840252 ,  0.88183345,  0.5108043 ,  0.55096942,  0.93893967,\n",
      "        -0.01128306],\n",
      "       [ 0.        ,  0.74539794,  0.8750275 ,  0.37619118,  0.45916811,\n",
      "         0.68950701,  0.06824759,  0.40776806,  0.41079149,  0.22871487,\n",
      "         0.89519897],\n",
      "       [ 0.        ,  0.57021523,  0.74250497,  0.09507627,  0.19523171,\n",
      "         0.78191206, -0.1153293 ,  0.20709082,  0.15722922, -0.0266729 ,\n",
      "         0.92883693],\n",
      "       [ 0.        ,  0.28802694,  0.2368096 ,  0.54265207,  0.47032036,\n",
      "        -0.0840252 ,  0.88183345,  0.5108043 ,  0.55096942,  0.93893967,\n",
      "        -0.01128306],\n",
      "       [ 0.        ,  0.68345732,  0.6384634 ,  0.86951076,  0.83223145,\n",
      "         0.0642582 ,  0.759836  ,  0.72352205,  0.83628855,  0.96351822,\n",
      "         0.26243657]])]\n"
     ]
    }
   ],
   "source": [
    "predict_errors = []\n",
    "confidence_errors = []\n",
    "regularization_list = []\n",
    "total_losses = []\n",
    "\n",
    "for i in range(15):\n",
    "    if i != 0:\n",
    "        optimize_user(X, Y, C, P, nu, nf, r_lambda)\n",
    "        optimize_item(X, Y, C, P, ni, nf, r_lambda)\n",
    "    predict = np.matmul(X, np.transpose(Y))\n",
    "    predict_error, confidence_error, regularization, total_loss = loss_function(C, P, predict, X, Y, r_lambda)\n",
    "    \n",
    "    predict_errors.append(predict_error)\n",
    "    confidence_errors.append(confidence_error)\n",
    "    regularization_list.append(regularization)\n",
    "    total_losses.append(total_loss)\n",
    "    \n",
    "    print(\"--------------------step %d-------------------\" %i)\n",
    "    print(\"predict error: %f\" % predict_error)\n",
    "    print(\"confidence error: %f\" % confidence_error)\n",
    "    print(\"regularization: %f\" % regularization)\n",
    "    print(\"total loss: %f\" % total_loss)\n",
    "    \n",
    "predict = np.matmul(X, np.transpose(Y))\n",
    "print(\"final predict\")\n",
    "print([predict])"
   ]
  },
  {
   "cell_type": "code",
   "execution_count": 61,
   "id": "spanish-truth",
   "metadata": {},
   "outputs": [
    {
     "data": {
      "text/plain": [
       "<Figure size 432x288 with 0 Axes>"
      ]
     },
     "metadata": {},
     "output_type": "display_data"
    },
    {
     "data": {
      "image/png": "[encoded data removed]",
      "text/plain": [
       "<Figure size 720x720 with 4 Axes>"
      ]
     },
     "metadata": {
      "needs_background": "light"
     },
     "output_type": "display_data"
    }
   ],
   "source": [
    "from matplotlib import pyplot as plt\n",
    "%matplotlib inline\n",
    "\n",
    "plt.subplots_adjust(wspace=100.0, hspace=20.0)\n",
    "fig = plt.figure()\n",
    "fig.set_figheight(10)\n",
    "fig.set_figwidth(10)\n",
    "predict_error_line = fig.add_subplot(2, 2, 1)\n",
    "confidence_error_line = fig.add_subplot(2, 2, 2)\n",
    "regularization_error_line = fig.add_subplot(2, 2, 3)\n",
    "total_loss_line = fig.add_subplot(2, 2, 4)\n",
    "\n",
    "predict_error_line.set_title(\"Predict Error\") \n",
    "predict_error_line.plot(predict_errors)\n",
    "\n",
    "confidence_error_line.set_title(\"Confidence Error\")\n",
    "confidence_error_line.plot(confidence_errors)\n",
    "\n",
    "regularization_error_line.set_title(\"Regularization\")\n",
    "regularization_error_line.plot(regularization_list)\n",
    "\n",
    "total_loss_line.set_title(\"Total Loss\")\n",
    "total_loss_line.plot(total_losses)\n",
    "plt.show()"
   ]
  },
  {
   "cell_type": "code",
   "execution_count": null,
   "id": "white-boating",
   "metadata": {},
   "outputs": [],
   "source": []
  }
 ],
 "metadata": {
  "kernelspec": {
   "display_name": "Python 3",
   "language": "python",
   "name": "python3"
  },
  "language_info": {
   "codemirror_mode": {
    "name": "ipython",
    "version": 3
   },
   "file_extension": ".py",
   "mimetype": "text/x-python",
   "name": "python",
   "nbconvert_exporter": "python",
   "pygments_lexer": "ipython3",
   "version": "3.8.0"
  }
 },
 "nbformat": 4,
 "nbformat_minor": 5
}
