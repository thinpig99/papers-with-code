{
 "cells": [
  {
   "cell_type": "markdown",
   "id": "informed-irish",
   "metadata": {},
   "source": [
    "# GoogLeNet"
   ]
  },
  {
   "cell_type": "markdown",
   "id": "resident-utilization",
   "metadata": {},
   "source": [
    "https://arxiv.org/pdf/1409.4842v1"
   ]
  },
  {
   "cell_type": "markdown",
   "id": "trained-auction",
   "metadata": {},
   "source": [
    "본 코드는 아래의 실습을 참고했습니다.\n",
    "\n",
    "https://drive.google.com/drive/folders/12zphz36T6gEJac6WScnvRN27-f1tfHO1"
   ]
  },
  {
   "cell_type": "markdown",
   "id": "meaningful-currency",
   "metadata": {},
   "source": [
    "인셉션 모듈이라는 블록을 가지고 있어서 인셉션 네트워크라고도 불립니다."
   ]
  },
  {
   "cell_type": "markdown",
   "id": "sacred-jason",
   "metadata": {},
   "source": [
    "인셉션 모듈에는 1 x 1 연산, 1 x 1 - 3 x 3 연산, 1 x 1 - 5 x 5 연산, 3 x 3maxpool - 1 x 1 연산이 있습니다. "
   ]
  },
  {
   "cell_type": "code",
   "execution_count": 4,
   "id": "controlled-lesson",
   "metadata": {},
   "outputs": [],
   "source": [
    "import torch\n",
    "import torch.nn as nn\n",
    "import torch.optim as optim\n",
    "import torch.nn.init as init"
   ]
  },
  {
   "cell_type": "code",
   "execution_count": 5,
   "id": "floppy-exercise",
   "metadata": {},
   "outputs": [],
   "source": [
    "# 인셉션 모듈을 위한 블럭 설정\n",
    "\n",
    "def conv_1(in_dim, out_dim): # 1 x 1 연산입니다.\n",
    "    model = nn.Sequential(\n",
    "            nn.Conv2d(in_dim, out_dim, 1, 1), # k 와 s 를 1로 둡니다.\n",
    "            nn.ReLU()\n",
    "            )\n",
    "    return model\n",
    "\n",
    "def conv_1_3(in_dim, mid_dim, out_dim): # 1 x 1, 3 x 3 연산입니다.\n",
    "    model = nn.Sequential(\n",
    "            nn.Conv2d(in_dim, mid_dim, 1, 1),\n",
    "            nn.ReLU(),\n",
    "            nn.Conv2d(mid_dim, out_dim, 3, 1, 1),\n",
    "            # k = 3, s = 1, p = 1 로 둡니다. s = 1 이면, I - K + 2P + 1 이기 때문에 텐서 shape 이 동일합니다.\n",
    "            nn.ReLU()\n",
    "    )\n",
    "    return model\n",
    "\n",
    "def conv_1_5(in_dim, mid_dim, out_dim):\n",
    "    model = nn.Sequential(\n",
    "            nn.Conv2d(in_dim, mid_dim, 1, 1),\n",
    "            nn.ReLU(),\n",
    "            nn.Conv2d(mid_dim, out_dim, 5, 1, 2),\n",
    "            # 마찬가지로 k = 5, s = 1, p = 2 이면, I - 5 + 2*2 + 1 이기 때문에 텐서 shape 이 동일합니다.\n",
    "            nn.ReLU()\n",
    "    )\n",
    "    return model\n",
    "\n",
    "def max_3_1(in_dim, out_dim):\n",
    "    model = nn.Sequential(\n",
    "            nn.MaxPool2d(3, 1, 1),\n",
    "            # MaxPool 은 k = 3, s = 1, p = 1 로 받았습니다. 텐서 shape 은 여전히 동일합니다.\n",
    "            nn.Conv2d(in_dim, out_dim, 1, 1),\n",
    "            nn.ReLU()\n",
    "    )\n",
    "    return model"
   ]
  },
  {
   "cell_type": "code",
   "execution_count": 6,
   "id": "animal-genome",
   "metadata": {},
   "outputs": [],
   "source": [
    "class inception_module(nn.Module):\n",
    "    def __init__(self, in_dim, out_dim_1, mid_dim_3, out_dim_3, mid_dim_5, out_dim_5, pool):\n",
    "        super(inception_module, self).__init__()\n",
    "        \n",
    "        self.conv_1 = conv_1(in_dim, out_dim_1)\n",
    "        self.conv_1_3 = conv_1_3(in_dim, mid_dim_3, out_dim_3)\n",
    "        self.conv_1_5 = conv_1_5(in_dim, mid_dim_5, out_dim_5)\n",
    "        self.max_3_1 = max_3_1(in_dim, pool)\n",
    "        \n",
    "    def forward(self, x):\n",
    "        out_1 = self.conv_1(x)\n",
    "        out_2 = self.conv_1_3(x)\n",
    "        out_3 = self.conv_1_5(x)\n",
    "        out_4 = self.max_3_1(x)\n",
    "        output = torch.cat([out_1, out_2, out_3, out_4], 1)\n",
    "        return output"
   ]
  },
  {
   "cell_type": "code",
   "execution_count": 7,
   "id": "electronic-campbell",
   "metadata": {},
   "outputs": [],
   "source": [
    "class GoogLeNet(nn.Module):\n",
    "    def __init__(self, base_dim, num_classes=2):\n",
    "        super(GoogLeNet, self).__init__()\n",
    "        \n",
    "        self.layer_1 = nn.Sequential(\n",
    "            nn.Conv2d(3, base_dim, 7, 2, 3),\n",
    "            nn.MaxPool2d(3, 2, 1),\n",
    "            nn.Conv2d(base_dim, base_dim*3, 3, 1, 1),\n",
    "            nn.MaxPool2d(3, 2, 1)\n",
    "        )\n",
    "        \n",
    "        self.layer_2 = nn.Sequential(\n",
    "            inception_module(base_dim*3, # in_dim\n",
    "                             64, # out_dim_1\n",
    "                             96, # mid_dim_3\n",
    "                             128, # out_dim_3\n",
    "                             16, # mid_dim_5\n",
    "                             32, # out_dim_5\n",
    "                             32 # pool\n",
    "                            ),\n",
    "            inception_module(base_dim*4, 128, 128, 192, 32, 96, 64),\n",
    "            nn.MaxPool2d(3, 2, 1)\n",
    "        )\n",
    "        \n",
    "        self.layer_3 = nn.Sequential(\n",
    "            inception_module(480, 192, 96, 208, 16, 48, 64),\n",
    "            inception_module(512, 160, 112, 224, 24, 64, 64),\n",
    "            inception_module(512, 128, 128, 256, 24, 64, 64),\n",
    "            inception_module(512, 112, 144, 288, 32, 64, 64),\n",
    "            inception_module(528, 256, 160, 320, 32, 128, 128),\n",
    "            nn.MaxPool2d(3, 2, 1)\n",
    "        )\n",
    "        \n",
    "        self.layer_4 = nn.Sequential(\n",
    "            inception_module(832, 256, 160, 320, 32, 128, 128),\n",
    "            inception_module(832, 384, 192, 384, 48, 128, 128),\n",
    "            nn.AvgPool2d(7, 1)\n",
    "        )\n",
    "        \n",
    "        self.layer_5 = nn.Dropout2d(0.4)\n",
    "        self.fc_layer = nn.Linear(1024, 1000)\n",
    "        \n",
    "    def forward(self, x):\n",
    "        out = self.layer_1(x)\n",
    "        out = self.layer_2(out)\n",
    "        out = self.layer_3(out)\n",
    "        out = self.layer_4(out)\n",
    "        out = self.layer_5(out)\n",
    "        out = out.view(batch_size, -1)\n",
    "        out = self.fc_layer(out)\n",
    "        \n",
    "        return out"
   ]
  },
  {
   "cell_type": "code",
   "execution_count": null,
   "id": "wrong-wayne",
   "metadata": {},
   "outputs": [],
   "source": []
  }
 ],
 "metadata": {
  "kernelspec": {
   "display_name": "wyatt38",
   "language": "python",
   "name": "wyatt38"
  },
  "language_info": {
   "codemirror_mode": {
    "name": "ipython",
    "version": 3
   },
   "file_extension": ".py",
   "mimetype": "text/x-python",
   "name": "python",
   "nbconvert_exporter": "python",
   "pygments_lexer": "ipython3",
   "version": "3.8.0"
  }
 },
 "nbformat": 4,
 "nbformat_minor": 5
}
