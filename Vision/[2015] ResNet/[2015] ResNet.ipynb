{
 "cells": [
  {
   "cell_type": "markdown",
   "id": "designed-switch",
   "metadata": {},
   "source": [
    "# ResNet"
   ]
  },
  {
   "cell_type": "markdown",
   "id": "corrected-desperate",
   "metadata": {},
   "source": [
    "https://arxiv.org/pdf/1512.03385.pdf"
   ]
  },
  {
   "cell_type": "markdown",
   "id": "useful-frederick",
   "metadata": {},
   "source": [
    "본 코드는 아래의 실습을 참고했습니다.\n",
    "\n",
    "https://drive.google.com/drive/folders/12zphz36T6gEJac6WScnvRN27-f1tfHO1"
   ]
  },
  {
   "cell_type": "markdown",
   "id": "realistic-diving",
   "metadata": {},
   "source": [
    "레이어를 얼마나 깊게 쌓을 수 있는가에 대한 연구의 일환으로 잔차 학습(Residual Learning)이라는 방법 제시.\n",
    "\n",
    "GoogLeNet 의 1x1 합성곱을 활용하여 파라미터 수를 줄인 Bottleneck 블록을 활용하였고,\n",
    "\n",
    "다운 샘플링을 활용합니다."
   ]
  },
  {
   "cell_type": "code",
   "execution_count": 1,
   "id": "dying-warner",
   "metadata": {},
   "outputs": [],
   "source": [
    "import torch\n",
    "import torch.nn as nn\n",
    "import torch.optim as optim\n",
    "import torch.nn.init as init"
   ]
  },
  {
   "cell_type": "code",
   "execution_count": 2,
   "id": "premium-monitoring",
   "metadata": {},
   "outputs": [],
   "source": [
    "# basic conv block\n",
    "\n",
    "def conv_block_1(in_dim: int, out_dim: int, act_fn, stride:int = 1) -> None:\n",
    "    model = nn.Sequential(\n",
    "        nn.Conv2d(in_dim, out_dim, kernel_size=1, stride=stride),\n",
    "        act_fn\n",
    "    )\n",
    "    return model\n",
    "\n",
    "def conv_block_3(in_dim: int, out_dim: int, act_fn) -> None:\n",
    "    model = nn.Sequential(\n",
    "        nn.Conv2d(in_dim, out_dim, kernel_size=3, stride=1, padding=1),\n",
    "        act_fn\n",
    "    )\n",
    "    return model"
   ]
  },
  {
   "cell_type": "code",
   "execution_count": 3,
   "id": "final-spelling",
   "metadata": {},
   "outputs": [],
   "source": [
    "# bottleNeck block\n",
    "\n",
    "class BottleNeck(nn.Module):\n",
    "    def __init__(self, in_dim: int,\n",
    "                 mid_dim: int,\n",
    "                 out_dim: int,\n",
    "                 act_fn,\n",
    "                 down: bool = False # down 인수를 True로 넣으면 Down Sampling 진행.\n",
    "                ) -> nn.Module:\n",
    "        super(BottleNeck, self).__init__()\n",
    "        self.act_fn = act_fn\n",
    "        self.down = down\n",
    "        \n",
    "        if self.down:\n",
    "            self.layer = nn.Sequential(\n",
    "                conv_block_1(in_dim, mid_dim, act_fn, 2),\n",
    "                conv_block_3(mid_dim, mid_dim, act_fn),\n",
    "                conv_block_1(mid_dim, out_dim, act_fn)\n",
    "            )\n",
    "            self.downsample = nn.Conv2d(in_dim, out_dim, 1, 2)\n",
    "            \n",
    "        else:\n",
    "            self.layer = nn.Sequential(\n",
    "                conv_block_1(in_dim, mid_dim, act_fn),\n",
    "                conv_block_3(mid_dim, mid_dim, act_fn),\n",
    "                conv_block_1(mid_dim, out_dim, act_fn)\n",
    "            )\n",
    "            self.dim_equalizer = nn.Conv2d(in_dim, out_dim, kernel_size=1) # 1 x 1 kernel 을 활용해 dim 을 맞춰준다.\n",
    "    \n",
    "    def forward(self, x):\n",
    "        if self.down: # down sampling\n",
    "            downsample = self.downsample(x)\n",
    "            out = self.layer(x)\n",
    "            out = out + downsample # concat\n",
    "        else: # dim equalizing\n",
    "            out = self.layer(x)\n",
    "            if x.size() is not out.size():\n",
    "                x = self.dim_equalizer(x)\n",
    "            out = out + x # concat\n",
    "        return out"
   ]
  },
  {
   "cell_type": "code",
   "execution_count": 4,
   "id": "leading-emergency",
   "metadata": {},
   "outputs": [],
   "source": [
    "# ResNet\n",
    "\n",
    "class ResNet(nn.Module):\n",
    "    def __init__(self, base_dim, num_classes=2):\n",
    "        super(ResNet, self).__init__()\n",
    "        self.act_fn = nn.ReLU()\n",
    "        self.layer_1 = nn.Sequential(\n",
    "            nn.Conv2d(3, base_dim, 7, 2, 3), # in, out, k, s, p\n",
    "            nn.ReLU(),\n",
    "            nn.MaxPool2d(3, 2, 1) # k, s, p\n",
    "        )\n",
    "        self.layer_2 = nn.Sequential(\n",
    "            BottleNeck(base_dim, base_dim, base_dim*4, self.act_fn),\n",
    "            BottleNeck(base_dim*4, base_dim, base_dim*4, self.act_fn),\n",
    "            BottleNeck(base_dim*4, base_dim, base_dim*4, self.act_fn, down=True)\n",
    "        )\n",
    "        self.layer_3 = nn.Sequential(\n",
    "            BottleNeck(base_dim*4, base_dim*2, base_dim*8, self.act_fn),\n",
    "            BottleNeck(base_dim*8, base_dim*2, base_dim*8, self.act_fn),\n",
    "            BottleNeck(base_dim*8, base_dim*2, base_dim*8, self.act_fn),\n",
    "            BottleNeck(base_dim*8, base_dim*2, base_dim*8, self.act_fn, down=True),\n",
    "        )\n",
    "        self.layer_4 = nn.Sequential(\n",
    "            BottleNeck(base_dim*8, base_dim*4, base_dim*16, self.act_fn),\n",
    "            BottleNeck(base_dim*16, base_dim*4, base_dim*16, self.act_fn),\n",
    "            BottleNeck(base_dim*16, base_dim*4, base_dim*16, self.act_fn),\n",
    "            BottleNeck(base_dim*16, base_dim*4, base_dim*16, self.act_fn),\n",
    "            BottleNeck(base_dim*16, base_dim*4, base_dim*16, self.act_fn),\n",
    "            BottleNeck(base_dim*16, base_dim*4, base_dim*16, self.act_fn, down=True)\n",
    "        )\n",
    "        self.layer_5 = nn.Sequential(\n",
    "            BottleNeck(base_dim*16, base_dim*8, base_dim*32, self.act_fn),\n",
    "            BottleNeck(base_dim*32, base_dim*8, base_dim*32, self.act_fn),\n",
    "            BottleNeck(base_dim*32, base_dim*8, base_dim*32, self.act_fn)\n",
    "        )\n",
    "        self.avgpool = nn.AvgPool2d(7, 1)\n",
    "        self.fc_layer = nn.Linear(base_dim*32, num_classes)\n",
    "        \n",
    "    def forward(self, x):\n",
    "        out = self.layer_1(x)\n",
    "        out = self.layer_2(out)\n",
    "        out = self.layer_3(out)\n",
    "        out = self.layer_4(out)\n",
    "        out = self.layer_5(out)\n",
    "        out = self.avgpool(out)\n",
    "        out = out.view(batch_size, -1)\n",
    "        out = self.fc_layer(out)\n",
    "        return out"
   ]
  },
  {
   "cell_type": "code",
   "execution_count": null,
   "id": "present-investor",
   "metadata": {},
   "outputs": [],
   "source": []
  }
 ],
 "metadata": {
  "kernelspec": {
   "display_name": "wyatt38",
   "language": "python",
   "name": "wyatt38"
  },
  "language_info": {
   "codemirror_mode": {
    "name": "ipython",
    "version": 3
   },
   "file_extension": ".py",
   "mimetype": "text/x-python",
   "name": "python",
   "nbconvert_exporter": "python",
   "pygments_lexer": "ipython3",
   "version": "3.8.0"
  }
 },
 "nbformat": 4,
 "nbformat_minor": 5
}
