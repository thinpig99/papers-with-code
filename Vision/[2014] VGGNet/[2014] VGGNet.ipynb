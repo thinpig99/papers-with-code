{
 "cells": [
  {
   "cell_type": "markdown",
   "id": "sustainable-month",
   "metadata": {},
   "source": [
    "# VGGNet"
   ]
  },
  {
   "cell_type": "markdown",
   "id": "subsequent-charge",
   "metadata": {},
   "source": [
    "https://arxiv.org/pdf/1409.1556.pdf"
   ]
  },
  {
   "cell_type": "markdown",
   "id": "nasty-right",
   "metadata": {},
   "source": [
    "본 코드는 아래의 실습을 참고했습니다.\n",
    "\n",
    "https://drive.google.com/drive/folders/12zphz36T6gEJac6WScnvRN27-f1tfHO1"
   ]
  },
  {
   "cell_type": "markdown",
   "id": "brutal-turkish",
   "metadata": {},
   "source": [
    "VGGNet은 conv 연산이 2번, 3번이 반복되는 블록으로 총 16개의 레이어로 구성된 아키텍쳐를 구성해보겠습니다."
   ]
  },
  {
   "cell_type": "code",
   "execution_count": 1,
   "id": "phantom-rochester",
   "metadata": {},
   "outputs": [],
   "source": [
    "import torch\n",
    "import torch.nn as nn\n",
    "import torch.optim as optim\n",
    "import torch.nn.init as init"
   ]
  },
  {
   "cell_type": "code",
   "execution_count": 2,
   "id": "attached-focus",
   "metadata": {},
   "outputs": [],
   "source": [
    "def conv_2_block(in_dim, out_dim): # 2개의 합성곱 레이어를 만드는 콘브 블럭입니다.\n",
    "    model = nn.Sequential(\n",
    "            nn.Conv2d(in_dim, out_dim, kernel_size=3, padding=1),\n",
    "            nn.ReLU(),\n",
    "            nn.conv2d(out_dim, out_dim, kernel_size=3, padding=1),\n",
    "            nn.ReLU(),\n",
    "            nn.MaxPool2d(2, 2)\n",
    "    )\n",
    "    return model\n",
    "\n",
    "def conv_3_block(in_dim, out_dim): # 3개의 합성곱 레이어를 만드는 콘브 블럭입니다.\n",
    "    model = nn.Sequential(\n",
    "            nn.Conv2d(in_dim, out_dim, kernel_size=3, padding=1),\n",
    "            nn.ReLU(),\n",
    "            nn.conv2d(out_dim, out_dim, kernel_size=3, padding=1),\n",
    "            nn.ReLU(),\n",
    "            nn.conv2d(out_dim, out_dim, kernel_size=3, padding=1),\n",
    "            nn.ReLU(),\n",
    "            nn.MaxPool2d(2, 2)\n",
    "    )\n",
    "    return model"
   ]
  },
  {
   "cell_type": "code",
   "execution_count": 3,
   "id": "growing-import",
   "metadata": {},
   "outputs": [],
   "source": [
    "class VGG(nn.Module):\n",
    "    def __init__(self, base_dim, num_classes=2):\n",
    "        super(VGG, self).__init__()\n",
    "        self.feature = nn.Sequential(\n",
    "            conv_2_block(3, base_dim),\n",
    "            conv_2_block(base_dim, 2*base_dim),\n",
    "            conv_3_block(2*base_dim, 4*base_dim),\n",
    "            conv_3_block(4*base_dim, 8*base_dim),\n",
    "            conv_3_block(8*base_dim, 8*base_dim)\n",
    "        )\n",
    "        \n",
    "        self.fc_layer = nn.Sequential(\n",
    "            nn.Linear(8*base_dim * 7 * 7, 100),\n",
    "            nn.ReLU(True),\n",
    "            nn.Linear(100, 20),\n",
    "            nn.ReLU(True),\n",
    "            nn.Linear(20, num_classes)\n",
    "        )\n",
    "    def forward(x):\n",
    "        x = self.layer(x)\n",
    "        x = x.view(x.size(0), -1)\n",
    "        x = self.fc_layer(x)\n",
    "        return x"
   ]
  },
  {
   "cell_type": "markdown",
   "id": "middle-packing",
   "metadata": {},
   "source": [
    "다음은 파이토치 공식 구현 버전을 살펴보겠습니다.\n",
    "\n",
    "https://github.com/pytorch/vision/tree/master/torchvision/models"
   ]
  },
  {
   "cell_type": "code",
   "execution_count": 4,
   "id": "academic-bonus",
   "metadata": {},
   "outputs": [],
   "source": [
    "class VGG(nn.Module):\n",
    "    \n",
    "    def __init__(self, features, num_classes=1000, init_weights=True):\n",
    "        super(VGG, self).__init__()\n",
    "        self.features = features # make_layers로 만든 features를 집어 넣는다.\n",
    "        self.avgpool = nn.AdaptiveAvgPool2d((7, 7)) # avgpool이 feature와 classifier 사이에 들어갑니다.\n",
    "        # Adaptive Pooling은 그냥 Pooling과는 다르게 S, K, P 를 지정하지 않고 인풋과 아웃풋에 맞춰서 자동으로 셋팅 됩니다.\n",
    "        self.classifier = nn.Sequential( # 마지막 classifier 가 들어갑니다.\n",
    "            nn.Linear(512 * 7 * 7, 4096),\n",
    "            nn.ReLU(True),\n",
    "            nn.Linear(4096, 4096),\n",
    "            nn.ReLU(True),\n",
    "            nn.Linear(4096, num_classes)\n",
    "        )\n",
    "        if init_weights: # init_weights 인수가 True면\n",
    "            self._initialize_weights() # 이니셜라이즈를 불러옵니다.\n",
    "    \n",
    "    def forward(self, x):\n",
    "        x = self.features(x)\n",
    "        x = self.avgpool(x)\n",
    "        x = x.view(x.size(0), -1)\n",
    "        x = self.classifier(x)\n",
    "        \n",
    "        return x\n",
    "    \n",
    "    def _initialize_weights(self):\n",
    "        for m in self.modules():\n",
    "            if isinstance(m, nn.Conv2d): # isinstance(x, y) 는 x가 y와 같은지 확인하는 함수다. 같으면 True를 반환한다.\n",
    "                nn.init.kaiming_normal_(m.weight, mode='fan_out', nonlinearity='relu')\n",
    "                if m.bias is not None:\n",
    "                    nn.init.constant_(m.bias, 0)\n",
    "            elif isinstance(m, nn.BatchNorm2d):\n",
    "                nn.init.constant_(m.weight, 1)\n",
    "                nn.init.constant_(m.bias, 0)\n",
    "            elif isinstance(m, nn.Linear):\n",
    "                nn.init.normal_(m.weight, 0, 0.01)\n",
    "                nn.init.constant_(m.bias, 0)\n",
    "                \n",
    "    def make_layers(cfg, batch_norm=False): # cfg 를 인수로 받습니다. cfg는 모델 아키텍쳐입니다. 아래 참고.\n",
    "        layers = [] # 레이어를 리스트로 먼저 할당.\n",
    "        in_channels = 3 # 인 채널은 3으로 셋팅\n",
    "        for v in cfg: # cfg에서 엘리먼트를 하나씩 뺍니다.\n",
    "            if v == 'M': # cfg의 엘리먼트가 M, 즉 맥스풀링이면 레이어에 맥스풀링을 더합니다.\n",
    "                layers += [nn.MaxPool2d(kernel_size=2, stride=2)]\n",
    "            else: # 아니라면 합성곱 레이어를 합칩니다.\n",
    "                conv2d = nn.Conv2d(in_channels, v, kernel_size=3, padding=1)\n",
    "                if batch_norm: # 여기서 배치노멀라이제이션이 존재하면 사이에 껴주고\n",
    "                    layers += [conv2d, nn.BatchNorm2d(v), nn.ReLU(inplace=True)]\n",
    "                else: # 아니라면 그냥 컨브에 렐루만 넣어줍니다.\n",
    "                    layers += [conv2d, nn.ReLU(inplace=True)]\n",
    "                in_channels = v # in_channels는 나가는 채널의 수로 바꿔줍니다.\n",
    "        return nn.Sequential(*layers) # 시퀀셜로 묶어서 내보내줍니다."
   ]
  },
  {
   "cell_type": "code",
   "execution_count": 5,
   "id": "competitive-nightmare",
   "metadata": {},
   "outputs": [],
   "source": [
    "cfgs = {\n",
    "        'A': [64, 'M', 128, 'M', 256, 256, 'M', 512, 512, 'M', 512, 512, 'M'],\n",
    "        'B': [64, 64, 'M', 128, 128, 'M', 256, 256, 'M', 512, 512, 'M', 512, 512, 'M'],\n",
    "        'D': [64, 64, 'M', 128, 128, 'M', 256, 256, 256, 'M', 512, 512, 512, 'M', 512, 512, 512, 'M'],\n",
    "        'E': [64, 64, 'M', 128, 128, 'M', 256, 256, 256, 256, 'M', 512, 512, 512, 512, 'M', 512, 512, 512, 512, 'M']\n",
    "        }"
   ]
  },
  {
   "cell_type": "code",
   "execution_count": null,
   "id": "south-separate",
   "metadata": {},
   "outputs": [],
   "source": []
  }
 ],
 "metadata": {
  "kernelspec": {
   "display_name": "wyatt38",
   "language": "python",
   "name": "wyatt38"
  },
  "language_info": {
   "codemirror_mode": {
    "name": "ipython",
    "version": 3
   },
   "file_extension": ".py",
   "mimetype": "text/x-python",
   "name": "python",
   "nbconvert_exporter": "python",
   "pygments_lexer": "ipython3",
   "version": "3.8.0"
  }
 },
 "nbformat": 4,
 "nbformat_minor": 5
}
